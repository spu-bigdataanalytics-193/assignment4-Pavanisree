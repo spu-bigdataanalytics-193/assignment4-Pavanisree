{
  "nbformat": 4,
  "nbformat_minor": 0,
  "metadata": {
    "colab": {
      "name": "610_Assignement4",
      "provenance": [],
      "collapsed_sections": []
    },
    "kernelspec": {
      "name": "python3",
      "display_name": "Python 3"
    }
  },
  "cells": [
    {
      "cell_type": "code",
      "metadata": {
        "id": "jd8C_On_WMgl",
        "colab_type": "code",
        "colab": {}
      },
      "source": [
        "# install java libs and spark\n",
        "! apt-get install openjdk-8-jdk-headless -qq > /dev/null\n",
        "! wget -q https://www-us.apache.org/dist/spark/spark-2.4.4/spark-2.4.4-bin-hadoop2.7.tgz\n",
        "! tar xf spark-2.4.4-bin-hadoop2.7.tgz\n",
        "! pip install -q findspark\n",
        "import os\n",
        "os.environ[\"JAVA_HOME\"] = \"/usr/lib/jvm/java-8-openjdk-amd64\"\n",
        "os.environ[\"SPARK_HOME\"] = \"/content/spark-2.4.4-bin-hadoop2.7\"\n",
        "\n",
        "\n"
      ],
      "execution_count": 0,
      "outputs": []
    },
    {
      "cell_type": "code",
      "metadata": {
        "id": "96Oen2zAZLMs",
        "colab_type": "code",
        "outputId": "ae372feb-ebe0-41ea-bb62-76a8c141f1ce",
        "colab": {
          "base_uri": "https://localhost:8080/",
          "height": 54
        }
      },
      "source": [
        "# Installing saprk\n",
        "\n",
        "import findspark\n",
        "\n",
        "findspark.init()\n",
        "\n",
        "from pyspark.sql import SparkSession\n",
        "spark = SparkSession.builder \\\n",
        "   .master(\"Local[*]\") \\\n",
        "   .appName(\"Learning_Spark\") \\\n",
        "   .getOrCreate()\n",
        "\n",
        "\n",
        "# Accessing to google drive\n",
        "from google.colab import drive\n",
        "drive.mount('/content/gdrive')\n",
        "\n",
        "\n"
      ],
      "execution_count": 0,
      "outputs": [
        {
          "output_type": "stream",
          "text": [
            "Drive already mounted at /content/gdrive; to attempt to forcibly remount, call drive.mount(\"/content/gdrive\", force_remount=True).\n"
          ],
          "name": "stdout"
        }
      ]
    },
    {
      "cell_type": "code",
      "metadata": {
        "id": "_FJ1eBQGJ96l",
        "colab_type": "code",
        "colab": {}
      },
      "source": [
        ""
      ],
      "execution_count": 0,
      "outputs": []
    },
    {
      "cell_type": "code",
      "metadata": {
        "id": "uqrpdkUgZjRt",
        "colab_type": "code",
        "outputId": "99331378-05bb-411d-8e99-cf9968cb53f6",
        "colab": {
          "base_uri": "https://localhost:8080/",
          "height": 54
        }
      },
      "source": [
        "spark = SparkSession.builder.appName(\"Learning_Spark\").master(\"Local[*]\").getOrCreate()\n",
        "\n",
        "\n",
        "sc = spark.sparkContext\n",
        "rdd = sc.textFile('/content/gdrive/My Drive/Map_reduce/*.csv.bz2')\n",
        "rdd.take(1)\n"
      ],
      "execution_count": 0,
      "outputs": [
        {
          "output_type": "execute_result",
          "data": {
            "text/plain": [
              "['Year,Month,DayofMonth,DayOfWeek,DepTime,CRSDepTime,ArrTime,CRSArrTime,UniqueCarrier,FlightNum,TailNum,ActualElapsedTime,CRSElapsedTime,AirTime,ArrDelay,DepDelay,Origin,Dest,Distance,TaxiIn,TaxiOut,Cancelled,CancellationCode,Diverted,CarrierDelay,WeatherDelay,NASDelay,SecurityDelay,LateAircraftDelay']"
            ]
          },
          "metadata": {
            "tags": []
          },
          "execution_count": 51
        }
      ]
    },
    {
      "cell_type": "code",
      "metadata": {
        "id": "aoTOPkc0ZqAO",
        "colab_type": "code",
        "colab": {}
      },
      "source": [
        "# Map reduce alogorithm\n",
        "\n",
        "rdd1 = rdd.map(lambda x: x.split(',')[8]).filter(lambda x : 'UniqueCarrier' not in x)\n",
        "\n"
      ],
      "execution_count": 0,
      "outputs": []
    },
    {
      "cell_type": "code",
      "metadata": {
        "id": "wd1-yK9rZy-W",
        "colab_type": "code",
        "colab": {}
      },
      "source": [
        "rdd2 = rdd1.map(lambda x:(x,1))\n",
        "\n",
        "\n",
        "\n",
        "rdd3 = rdd2.reduceByKey(lambda x,y: x+y)\n",
        "\n",
        "\n"
      ],
      "execution_count": 0,
      "outputs": []
    },
    {
      "cell_type": "code",
      "metadata": {
        "id": "fRQgBe7HZ2ox",
        "colab_type": "code",
        "outputId": "e9937468-9eba-47d8-ae51-2e559aa321e8",
        "colab": {
          "base_uri": "https://localhost:8080/",
          "height": 510
        }
      },
      "source": [
        "rdd3.take(30)\n",
        "\n",
        "\n",
        "\n"
      ],
      "execution_count": 0,
      "outputs": [
        {
          "output_type": "execute_result",
          "data": {
            "text/plain": [
              "[('MQ', 3954895),\n",
              " ('PI', 873957),\n",
              " ('XE', 2350309),\n",
              " ('AQ', 154381),\n",
              " ('AA', 14984647),\n",
              " ('PS', 83617),\n",
              " ('AS', 2878021),\n",
              " ('DL', 16547870),\n",
              " ('UA', 13299817),\n",
              " ('FL', 1265138),\n",
              " ('NW', 10292627),\n",
              " ('DH', 693047),\n",
              " ('EA', 919785),\n",
              " ('HA', 274265),\n",
              " ('F9', 336958),\n",
              " ('WN', 15976022),\n",
              " ('PA (1)', 316167),\n",
              " ('US', 14075530),\n",
              " ('OO', 3090853),\n",
              " ('CO', 8145788),\n",
              " ('HP', 3636682),\n",
              " ('OH', 1464176),\n",
              " ('B6', 811341),\n",
              " ('TZ', 208420),\n",
              " ('ML (1)', 70622),\n",
              " ('YV', 854056),\n",
              " ('EV', 1697172),\n",
              " ('9E', 521059),\n",
              " ('TW', 3757747)]"
            ]
          },
          "metadata": {
            "tags": []
          },
          "execution_count": 64
        }
      ]
    },
    {
      "cell_type": "code",
      "metadata": {
        "id": "vZsEmSmp3G9f",
        "colab_type": "code",
        "colab": {}
      },
      "source": [
        ""
      ],
      "execution_count": 0,
      "outputs": []
    },
    {
      "cell_type": "code",
      "metadata": {
        "id": "mW7sr-x03Ktl",
        "colab_type": "code",
        "colab": {}
      },
      "source": [
        ""
      ],
      "execution_count": 0,
      "outputs": []
    }
  ]
}